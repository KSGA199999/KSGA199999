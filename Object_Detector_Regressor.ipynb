{
  "nbformat": 4,
  "nbformat_minor": 0,
  "metadata": {
    "colab": {
      "provenance": [],
      "authorship_tag": "ABX9TyODbZ0VjqAySj6HSzxyqQRs",
      "include_colab_link": true
    },
    "kernelspec": {
      "name": "python3",
      "display_name": "Python 3"
    },
    "language_info": {
      "name": "python"
    }
  },
  "cells": [
    {
      "cell_type": "markdown",
      "metadata": {
        "id": "view-in-github",
        "colab_type": "text"
      },
      "source": [
        "<a href=\"https://colab.research.google.com/github/KSGA199999/KSGA199999/blob/main/Object_Detector_Regressor.ipynb\" target=\"_parent\"><img src=\"https://colab.research.google.com/assets/colab-badge.svg\" alt=\"Open In Colab\"/></a>"
      ]
    },
    {
      "cell_type": "code",
      "execution_count": null,
      "metadata": {
        "id": "TfY8T-WUi8B0"
      },
      "outputs": [],
      "source": [
        "import tensorflow as tf\n",
        "from tensorflow.keras.models import Sequential\n",
        "from tensorflow.keras.layers import Conv2D, Flatten, Dense\n",
        "from tensorflow.keras.optimizers import Adam\n",
        "import numpy as np\n",
        "\n",
        "# Dummy dataset creation (images and bounding boxes)\n",
        "# Assuming a dataset of images with size (64, 64, 3) and bounding boxes (x, y, width, height)\n",
        "num_samples = 1000\n",
        "image_size = (64, 64, 3)\n",
        "X = np.random.random((num_samples,) + image_size)\n",
        "Y = np.random.random((num_samples, 4))  # Normalized bounding box coordinates\n",
        "\n",
        "# Define a simple regression-based object detector\n",
        "model = Sequential([\n",
        "    Conv2D(32, (3, 3), activation='relu', input_shape=image_size),\n",
        "    Conv2D(64, (3, 3), activation='relu'),\n",
        "    Flatten(),\n",
        "    Dense(128, activation='relu'),\n",
        "    Dense(4)  # Output layer for bounding box (x, y, width, height)\n",
        "])\n",
        "\n",
        "# Compile the model\n",
        "model.compile(optimizer=Adam(learning_rate=0.001), loss='mse', metrics=['mae'])\n",
        "\n",
        "# Train the model\n",
        "history = model.fit(X, Y, epochs=10, batch_size=32, validation_split=0.2)\n",
        "\n",
        "# Evaluate the model\n",
        "test_loss, test_mae = model.evaluate(X, Y)\n",
        "print(f\"Test Loss: {test_loss}, Test MAE: {test_mae}\")\n",
        "\n",
        "# Example prediction\n",
        "sample_image = np.random.random((1,) + image_size)\n",
        "predicted_box = model.predict(sample_image)\n",
        "print(f\"Predicted bounding box: {predicted_box}\")\n"
      ]
    }
  ]
}